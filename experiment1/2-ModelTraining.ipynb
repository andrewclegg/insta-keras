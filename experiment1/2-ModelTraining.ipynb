{
 "cells": [
  {
   "cell_type": "markdown",
   "metadata": {},
   "source": [
    "# Model Training\n",
    "\n",
    "This notebook defines and trains a Keras network to predict, for each order, which of the items in the user's _previous_ order will reappear in it.\n",
    "\n",
    "This is slightly different from the goal of the Kaggle contest, which is to predict which items from _any_ point in the user's past history will reappear in this order.\n",
    "\n",
    "Make sure you run the [Data Preparation](1-DataPrep.ipynb) notebook before this one.\n",
    "\n",
    "Training will be performed on a GPU automatically if your machine has one, or CPU otherwise (assuming you haven't messed with Keras's configuration).\n",
    "\n",
    "## Problem definition\n",
    "\n",
    "Conceptually, we're trying to predict a number of items for each order -- a multilabel classification problem.\n",
    "\n",
    "However, since the candidate items for each order come from a restricted set (the _n_ items in the previous order), this decomposes nicely into _n_ individual binary classification problems. This is generally an easier problem to solve, especially when _n_ is much smaller than the total number of items in the data.\n",
    "\n",
    "So, each training (or test) instance is actually an item in an order, and the label is 1 if that item also appears in the next order, and 0 otherwise.\n",
    "\n",
    "This means each order yields _n_ separate training instances, one for each item it contains.\n",
    "\n",
    "## Network structure\n",
    "\n",
    "The inputs to the network, for each training instance, are:\n",
    "\n",
    "* (1) The order that this instance came from\n",
    " * This remains the same for all the _n_ instances from this order\n",
    "* (2) The items in that order which were themselves reorders\n",
    " * This also remains the same for all instances from this order\n",
    "* (3) The user\n",
    " * This also remains the same for all instances from this order\n",
    "* (4) The item itself\n",
    " * This is the only input that differs between instances from the same order\n",
    "\n",
    "The label, for each instance, is a 1 or 0 indicating whether or not it reappears in the user's next order.\n",
    "\n",
    "All items are represented by an _embedding_, i.e. a vector of floats. These values are learnt during training, along with all the other weights of the network, and items which appear in similar contexts will result in similar embeddings.\n",
    "\n",
    "A collection of items (i.e. (1) and (2)) is represented by getting the embeddings for those items and simply adding them together, so an empty collection is just a vector of zeros.\n",
    "\n",
    "Each user is also represented by an embedding, again learnt during training.\n",
    "\n",
    "The final input to the network, then, is a concatenation of four vectors:\n",
    "\n",
    "* The order vector (sum of item embeddings in order)\n",
    "* The reorder vector (sum of reordered item embeddings in order)\n",
    "* The current item's embedding\n",
    "* The current user's embedding\n",
    "\n",
    "Or more visually (each row is a single training instance):\n",
    "\n",
    "```\n",
    "|---Order-Vector-6---||--Reorder-Vector-6--||---Item-Vector-13---||---User-Vector-22---|\n",
    "|---Order-Vector-6---||--Reorder-Vector-6--||---Item-Vector-43---||---User-Vector-22---|\n",
    "|---Order-Vector-6---||--Reorder-Vector-6--||---Item-Vector-91---||---User-Vector-22---|\n",
    "...\n",
    "|---Order-Vector-9---||--Reorder-Vector-9--||---Item-Vector-10---||---User-Vector-71---|\n",
    "|---Order-Vector-9---||--Reorder-Vector-9--||---Item-Vector-13---||---User-Vector-71---|\n",
    "...\n",
    "```\n",
    "\n",
    "These vectors are fed through a series of fully-connected layers, and then to a single output node which predicts the label. This is scored against the true label via [cross-entropy loss](https://jamesmccaffrey.wordpress.com/2013/11/05/why-you-should-use-cross-entropy-error-instead-of-classification-error-or-mean-squared-error-for-neural-network-classifier-training/). The exact structure of the network is discussed below.\n",
    "\n",
    "## Evaluation metrics\n",
    "\n",
    "Before training, 5000 randomly-selected order pairs will be set aside as validation data. After each training epoch -- i.e. each pass through the training data -- we'll evaluate the model's predictive power over the validation set, reporting [precision, recall and F1 score](https://en.wikipedia.org/wiki/Precision_and_recall) (balanced F-measure) averaged over these orders.\n",
    "\n",
    "N.B. This isn't necessarily a perfect predictor of how well the model will do in production, as the training data can potentially contain order pairs that appear chronologically later in the input data than order pairs in the validation data. This is a violation of the \"no time machines\" rule. But, it's convenient for demonstration purposes. A thorough evaluation would involve a held-out test set consisting of each user's most recent order.\n",
    "\n",
    "## RAM usage\n",
    "\n",
    "Beware! This notebook requires over 4GB of RAM to run."
   ]
  },
  {
   "cell_type": "code",
   "execution_count": 1,
   "metadata": {},
   "outputs": [
    {
     "name": "stderr",
     "output_type": "stream",
     "text": [
      "Using TensorFlow backend.\n"
     ]
    }
   ],
   "source": [
    "import numpy as np\n",
    "import keras as k\n",
    "import keras.backend as K\n",
    "from keras.engine.topology import Layer\n",
    "import sklearn as sk\n",
    "import tensorflow as tf\n",
    "import h5py\n",
    "import os\n",
    "\n",
    "h5_dir = 'h5/'"
   ]
  },
  {
   "cell_type": "markdown",
   "metadata": {},
   "source": [
    "## Reopen saved datasets\n",
    "\n",
    "Pull all the data out of HDF5 file and back into memory. This is much faster than doing random access directly on the files, particularly if you're using a cloud server with network-attached storage."
   ]
  },
  {
   "cell_type": "code",
   "execution_count": 2,
   "metadata": {
    "collapsed": true
   },
   "outputs": [],
   "source": [
    "datafile = h5py.File(os.path.join(h5_dir, 'training_data.h5'), 'r')\n",
    "orders_dataset = datafile['orders'][:]\n",
    "reorders_dataset = datafile['reorders'][:]\n",
    "users_dataset = datafile['users'][:]\n",
    "items_dataset = datafile['items'][:]\n",
    "labels_dataset = datafile['labels'][:]\n",
    "num_rows = datafile['num_rows'][0]\n",
    "biggest_order_size = datafile['biggest_order_size'][0]\n",
    "max_product_id = datafile['max_product_id'][0]\n",
    "max_user_id = datafile['max_user_id'][0]\n",
    "datafile.close()\n",
    "del datafile"
   ]
  },
  {
   "cell_type": "markdown",
   "metadata": {},
   "source": [
    "## Network helpers\n",
    "\n",
    "From: https://github.com/fchollet/keras/issues/2728"
   ]
  },
  {
   "cell_type": "code",
   "execution_count": 3,
   "metadata": {
    "collapsed": true
   },
   "outputs": [],
   "source": [
    "class ZeroMaskedEntries(k.engine.topology.Layer):\n",
    "    \"\"\"\n",
    "    This layer is called after an Embedding layer.\n",
    "    It zeros out all of the masked-out embeddings.\n",
    "    It also swallows the mask without passing it on.\n",
    "    You can change this to default pass-on behavior as follows:\n",
    "\n",
    "    def compute_mask(self, x, mask=None):\n",
    "        if not self.mask_zero:\n",
    "            return None\n",
    "        else:\n",
    "            return K.not_equal(x, 0)\n",
    "    \"\"\"\n",
    "\n",
    "    def __init__(self, **kwargs):\n",
    "        self.support_mask = True\n",
    "        super(ZeroMaskedEntries, self).__init__(**kwargs)\n",
    "\n",
    "    def build(self, input_shape):\n",
    "        self.output_dim = input_shape[1]\n",
    "        self.repeat_dim = input_shape[2]\n",
    "\n",
    "    def call(self, x, mask=None):\n",
    "        mask = K.cast(mask, 'float32')\n",
    "        mask = K.repeat(mask, self.repeat_dim)\n",
    "        mask = K.permute_dimensions(mask, (0, 2, 1))\n",
    "        return x * mask\n",
    "\n",
    "    def compute_mask(self, input_shape, input_mask=None):\n",
    "        return None\n",
    "\n",
    "\n",
    "def mask_aware_mean(x):\n",
    "    # recreate the masks - all zero rows have been masked\n",
    "    mask = K.not_equal(K.sum(K.abs(x), axis=2, keepdims=True), 0)\n",
    "\n",
    "    # number of that rows are not all zeros\n",
    "    n = K.sum(K.cast(mask, 'float32'), axis=1, keepdims=False)\n",
    "    \n",
    "    # compute mask-aware mean of x, or all zeroes if no rows present\n",
    "    x_mean = K.sum(x, axis=1, keepdims=False) / n\n",
    "    x_mean = tf.where(tf.is_nan(x_mean), tf.zeros_like(x_mean), x_mean)\n",
    "    x_mean = tf.verify_tensor_all_finite(x_mean, 'fuck')\n",
    "\n",
    "    return x_mean\n",
    "\n",
    "\n",
    "def mask_aware_mean_output_shape(input_shape):\n",
    "    shape = list(input_shape)\n",
    "    assert len(shape) == 3 \n",
    "    return (shape[0], shape[2])"
   ]
  },
  {
   "cell_type": "markdown",
   "metadata": {},
   "source": [
    "## Network structure\n",
    "\n",
    "The following code defines the structure of the neural network, as described in the notes at the top of this file.\n",
    "\n",
    "The constants at the top define the dimensionality of the user and product embeddings, and the hidden layer sizes. The final dimensionality of the concatenated input vector is:\n",
    "\n",
    "`(product_embedding_size * 3) + user_embedding_size`\n",
    "\n",
    "because we have order, reorder and current item vectors, again as described above.\n",
    "\n",
    "Note that there are actually two separate product embedding tables, for the context (previous order and reorder) and the target item. This gives the model more room to manoeuvre. We call these the 'in' and 'out' embeddings like in word2vec. The user embedding is drawn from a different table altogether.\n",
    "\n",
    "The hidden layers are [exponential linear units](https://arxiv.org/abs/1511.07289), with [dropout](http://jmlr.org/papers/v15/srivastava14a.html) to reduce the effects of overfitting. The network is trained using the [ADAM optimizer](https://arxiv.org/abs/1412.6980).\n",
    "\n",
    "### Note\n",
    "\n",
    "When you run the following cell, no data actually gets processed.\n",
    "\n",
    "The Keras API calls here just _define_ the network structure -- think of it like a declarative DSL for describing a network.\n",
    "\n",
    "We'll actually pass data into the network, and evaluate its output, later on."
   ]
  },
  {
   "cell_type": "code",
   "execution_count": 18,
   "metadata": {
    "scrolled": false
   },
   "outputs": [
    {
     "name": "stdout",
     "output_type": "stream",
     "text": [
      "____________________________________________________________________________________________________\n",
      "Layer (type)                     Output Shape          Param #     Connected to                     \n",
      "====================================================================================================\n",
      "order_input (InputLayer)         (None, 145)           0                                            \n",
      "____________________________________________________________________________________________________\n",
      "reorder_input (InputLayer)       (None, 145)           0                                            \n",
      "____________________________________________________________________________________________________\n",
      "product_embedding_in (Embedding) multiple              2484450     order_input[0][0]                \n",
      "                                                                   reorder_input[0][0]              \n",
      "                                                                   item_input[0][0]                 \n",
      "____________________________________________________________________________________________________\n",
      "lambda_14 (Lambda)               (None, 50)            0           product_embedding_in[0][0]       \n",
      "____________________________________________________________________________________________________\n",
      "lambda_15 (Lambda)               (None, 50)            0           product_embedding_in[1][0]       \n",
      "____________________________________________________________________________________________________\n",
      "order_hidden_1 (Dense)           (None, 50)            2500        lambda_14[0][0]                  \n",
      "____________________________________________________________________________________________________\n",
      "reorder_hidden_1 (Dense)         (None, 50)            2500        lambda_15[0][0]                  \n",
      "____________________________________________________________________________________________________\n",
      "batch_normalization_38 (BatchNor (None, 50)            150         order_hidden_1[0][0]             \n",
      "____________________________________________________________________________________________________\n",
      "batch_normalization_41 (BatchNor (None, 50)            150         reorder_hidden_1[0][0]           \n",
      "____________________________________________________________________________________________________\n",
      "activation_29 (Activation)       (None, 50)            0           batch_normalization_38[0][0]     \n",
      "____________________________________________________________________________________________________\n",
      "activation_32 (Activation)       (None, 50)            0           batch_normalization_41[0][0]     \n",
      "____________________________________________________________________________________________________\n",
      "order_hidden_2 (Dense)           (None, 50)            2500        activation_29[0][0]              \n",
      "____________________________________________________________________________________________________\n",
      "reorder_hidden_2 (Dense)         (None, 50)            2500        activation_32[0][0]              \n",
      "____________________________________________________________________________________________________\n",
      "batch_normalization_39 (BatchNor (None, 50)            150         order_hidden_2[0][0]             \n",
      "____________________________________________________________________________________________________\n",
      "batch_normalization_42 (BatchNor (None, 50)            150         reorder_hidden_2[0][0]           \n",
      "____________________________________________________________________________________________________\n",
      "activation_30 (Activation)       (None, 50)            0           batch_normalization_39[0][0]     \n",
      "____________________________________________________________________________________________________\n",
      "activation_33 (Activation)       (None, 50)            0           batch_normalization_42[0][0]     \n",
      "____________________________________________________________________________________________________\n",
      "order_hidden_3 (Dense)           (None, 50)            2500        activation_30[0][0]              \n",
      "____________________________________________________________________________________________________\n",
      "reorder_hidden_3 (Dense)         (None, 50)            2500        activation_33[0][0]              \n",
      "____________________________________________________________________________________________________\n",
      "item_input (InputLayer)          (None, 1)             0                                            \n",
      "____________________________________________________________________________________________________\n",
      "user_input (InputLayer)          (None, 1)             0                                            \n",
      "____________________________________________________________________________________________________\n",
      "batch_normalization_40 (BatchNor (None, 50)            150         order_hidden_3[0][0]             \n",
      "____________________________________________________________________________________________________\n",
      "batch_normalization_43 (BatchNor (None, 50)            150         reorder_hidden_3[0][0]           \n",
      "____________________________________________________________________________________________________\n",
      "user_embedding (Embedding)       (None, 1, 50)         10310500    user_input[0][0]                 \n",
      "____________________________________________________________________________________________________\n",
      "activation_31 (Activation)       (None, 50)            0           batch_normalization_40[0][0]     \n",
      "____________________________________________________________________________________________________\n",
      "activation_34 (Activation)       (None, 50)            0           batch_normalization_43[0][0]     \n",
      "____________________________________________________________________________________________________\n",
      "item_vector (Flatten)            (None, 50)            0           product_embedding_in[2][0]       \n",
      "____________________________________________________________________________________________________\n",
      "user_vector (Flatten)            (None, 50)            0           user_embedding[0][0]             \n",
      "____________________________________________________________________________________________________\n",
      "cont_features_input (InputLayer) (None, 2)             0                                            \n",
      "____________________________________________________________________________________________________\n",
      "full_input_vector (Concatenate)  (None, 202)           0           activation_31[0][0]              \n",
      "                                                                   activation_34[0][0]              \n",
      "                                                                   item_vector[0][0]                \n",
      "                                                                   user_vector[0][0]                \n",
      "                                                                   cont_features_input[0][0]        \n",
      "____________________________________________________________________________________________________\n",
      "hidden (Dense)                   (None, 202)           40804       full_input_vector[0][0]          \n",
      "____________________________________________________________________________________________________\n",
      "batch_normalization_44 (BatchNor (None, 202)           606         hidden[0][0]                     \n",
      "____________________________________________________________________________________________________\n",
      "activation_35 (Activation)       (None, 202)           0           batch_normalization_44[0][0]     \n",
      "____________________________________________________________________________________________________\n",
      "output (Dense)                   (None, 1)             203         activation_35[0][0]              \n",
      "====================================================================================================\n",
      "Total params: 12,852,463\n",
      "Trainable params: 12,851,459\n",
      "Non-trainable params: 1,004\n",
      "____________________________________________________________________________________________________\n"
     ]
    }
   ],
   "source": [
    "# Layer size constants\n",
    "user_embedding_size = 50\n",
    "product_embedding_size = 50\n",
    "\n",
    "# Don't change this -- number of continuous features\n",
    "cont_features_size = 2\n",
    "\n",
    "# Activation function for the hidden layers\n",
    "activation = 'relu'\n",
    "\n",
    "# Dropout rate for the hidden layers\n",
    "dropout = 0.1\n",
    "\n",
    "# Initial learning rate etc.\n",
    "learning_rate = 0.1\n",
    "decay_rate = 1e-5\n",
    "\n",
    "def bn(input, scale=False):\n",
    "  return k.layers.Activation(activation)(k.layers.normalization.BatchNormalization(scale=scale)(input))\n",
    "\n",
    "# Input layers for the four datasets, and the continuous features\n",
    "\n",
    "user_input = k.layers.Input(shape=(1,), name='user_input')\n",
    "\n",
    "order_input = k.layers.Input(shape=(biggest_order_size,), name='order_input')\n",
    "\n",
    "reorder_input = k.layers.Input(shape=(biggest_order_size,), name='reorder_input')\n",
    "\n",
    "item_input = k.layers.Input(shape=(1,), name='item_input')\n",
    "\n",
    "cont_features_input = k.layers.Input(shape=(cont_features_size,), name='cont_features_input')\n",
    "\n",
    "# Set up the embeddings tables -- these map the order, reorder, user, and\n",
    "# individual item IDs into embeddings\n",
    "# Think of them as lookup tables mapping IDs to vectors of floats\n",
    "\n",
    "# Similar to word2vec, for products we use separate 'in' embeddings\n",
    "# (for the context) and 'out' embeddings (for the item we're trying to predict)\n",
    "\n",
    "product_embedding_in = k.layers.Embedding(\n",
    "  input_dim=max_product_id + 1, output_dim=product_embedding_size,\n",
    "  name='product_embedding_in')\n",
    "\n",
    "#product_embedding_out = k.layers.Embedding(\n",
    "#  input_dim=max_product_id + 1, output_dim=product_embedding_size,\n",
    "#  name='product_embedding_out')\n",
    "\n",
    "# Set up a separate user embedding table\n",
    "\n",
    "user_embedding = k.layers.Embedding(\n",
    "  input_dim=max_user_id + 1, output_dim=user_embedding_size, name='user_embedding')\n",
    "\n",
    "# Deep averaging networks for the order and reorder sets\n",
    "\n",
    "order_embedding = product_embedding_in(order_input)\n",
    "\n",
    "order_vector = k.layers.Lambda(\n",
    "  mask_aware_mean, mask_aware_mean_output_shape)(order_embedding)\n",
    "\n",
    "order_hidden_1 = bn((k.layers.Dense(\n",
    "  product_embedding_size, name='order_hidden_1', use_bias=False)(order_vector)))\n",
    "\n",
    "order_hidden_2 = bn((k.layers.Dense(\n",
    "  product_embedding_size, name='order_hidden_2', use_bias=False)(order_hidden_1)))\n",
    "\n",
    "order_hidden_3 = bn((k.layers.Dense(\n",
    "  product_embedding_size, name='order_hidden_3', use_bias=False)(order_hidden_2)))\n",
    "\n",
    "reorder_embedding = product_embedding_in(reorder_input)\n",
    "\n",
    "reorder_vector = k.layers.Lambda(\n",
    "  mask_aware_mean, mask_aware_mean_output_shape)(reorder_embedding)\n",
    "\n",
    "reorder_hidden_1 = bn((k.layers.Dense(\n",
    "  product_embedding_size, name='reorder_hidden_1', use_bias=False)(reorder_vector)))\n",
    "\n",
    "reorder_hidden_2 = bn((k.layers.Dense(\n",
    "  product_embedding_size, name='reorder_hidden_2', use_bias=False)(reorder_hidden_1)))\n",
    "\n",
    "reorder_hidden_3 = bn((k.layers.Dense(\n",
    "  product_embedding_size, name='reorder_hidden_3', use_bias=False)(reorder_hidden_2)))\n",
    "\n",
    "# Flatten the single item embedding into a vector\n",
    "\n",
    "item_vector = k.layers.Flatten(name='item_vector')(\n",
    "  product_embedding_in(item_input))\n",
    "\n",
    "# Flatten the single user embedding into a vector\n",
    "\n",
    "user_vector = k.layers.Flatten(name='user_vector')(\n",
    "  user_embedding(user_input))\n",
    "\n",
    "# Concatenate embeddings with explicitly-supplied features\n",
    "\n",
    "full_input_vector = k.layers.concatenate(\n",
    "  [order_hidden_3, reorder_hidden_3, item_vector, user_vector, cont_features_input],\n",
    "  name=\"full_input_vector\")\n",
    "\n",
    "# Define the hidden layer\n",
    "\n",
    "hidden = bn(k.layers.Dense(\n",
    "  2 + user_embedding_size + 3 * product_embedding_size,\n",
    "  name='hidden', use_bias=False)(full_input_vector), scale=False)\n",
    "\n",
    "output = k.layers.Dense(1, activation='sigmoid', name='output')(hidden)\n",
    "\n",
    "# Compile the model\n",
    "\n",
    "model = k.models.Model(\n",
    "  inputs=[order_input, reorder_input, user_input, item_input, cont_features_input],\n",
    "  outputs=output)\n",
    "\n",
    "model.compile(\n",
    "  optimizer=k.optimizers.SGD(lr=learning_rate, decay=decay_rate), loss='binary_crossentropy')\n",
    "\n",
    "model.summary()"
   ]
  },
  {
   "cell_type": "markdown",
   "metadata": {},
   "source": [
    "## Training\n",
    "\n",
    "The following sections set up the training process.\n",
    "\n",
    "We read the data in batches of 1000 order pairs at a time, although each of these gets expanded into one training instance per item in the earlier order, as described earlier. The label for each instance is whether that item appears in the later order or not.\n",
    "\n",
    "The data is shuffled before training starts, and again at the end of each training epoch, because data with non-random ordering can cause batch-based optimization algorithms to behave in unexpected ways and perform badly.\n",
    "\n",
    "Note that shuffling the data is done indirectly, via a numeric index into the input datasets, rather than by trying to shuffle them in-place but in a synchronized manner. This makes the code much simpler, and is faster too.\n",
    "\n",
    "We set aside 5000 order pairs as the validation set. If you change these, make sure `num_valid` is a multiple of `batch_size` so it doesn't skew the average loss calculation in the `validate` function later.\n",
    "\n",
    "Also, we use a helper function from scikit-learn to calculate weights for the classes, based on the frequencies of these classes in the training data. This is necessary because class 0 (not a reorder) is much more common than class 1 (reorder). Without adjusting for this, the model would just get stuck in a local optimum where it predicts 0 for every item. By reweighting them, we make false negatives (predicting 0s for items that should be 1s) much more costly to the model, so it avoids this trap."
   ]
  },
  {
   "cell_type": "code",
   "execution_count": 5,
   "metadata": {
    "collapsed": true
   },
   "outputs": [],
   "source": [
    "batch_size = 1000\n",
    "num_valid = 5000\n",
    "assert num_valid % batch_size == 0\n",
    "\n",
    "index = np.arange(num_rows, dtype=np.uint32)\n",
    "np.random.shuffle(index)\n",
    "index_valid = index[:num_valid]\n",
    "index_train = index[num_valid:]\n",
    "\n",
    "class_weights = sk.utils.class_weight.compute_class_weight(\n",
    "  'balanced', [0, 1], np.hstack(labels_dataset[index_train]))"
   ]
  },
  {
   "cell_type": "markdown",
   "metadata": {},
   "source": [
    "Now we define a couple of helper functions.\n",
    "\n",
    "`make_training_data` is called once per batch, on a list of indices into the training data. It retrieves the records corresponding to those indices from the underlying datasets, performs some minor adjustments and returns them as Numpy arrays.\n",
    "\n",
    "`validate` is called once per epoch, i.e. after one whole run through the training data. It calculates some metrics on the validation data -- batch by batch as if it was training data -- and returns them.\n",
    "\n",
    "`validate` is a bit inefficient as it regenerates the input arrays (via `make_training_data`) every time it's called, even though these don't change and could be cached. This would be easy to implement at the cost of higher memory usage."
   ]
  },
  {
   "cell_type": "code",
   "execution_count": 6,
   "metadata": {
    "collapsed": true
   },
   "outputs": [],
   "source": [
    "def make_training_data(indices):\n",
    "  \n",
    "  # Get labels for this batch's instances, and stack them into a single vector\n",
    "  labels_separate = labels_dataset[indices]\n",
    "  labels = np.hstack(labels_separate)\n",
    "  \n",
    "  # Get the arrays of ordered item IDs and reordered item IDs for each order\n",
    "  # (these are already zero-padded to the same length)\n",
    "  orders_separate = orders_dataset[indices]\n",
    "  reorders_separate = reorders_dataset[indices]\n",
    "  \n",
    "  # From the length of each individual label array, we know how many items\n",
    "  # are in each of the orders\n",
    "  order_lengths = [len(items) for items in labels_separate]\n",
    "\n",
    "  # Repeat each order array and each reorder array that many times\n",
    "  orders_data = np.repeat(orders_separate, order_lengths, axis=0)\n",
    "  reorders_data = np.repeat(reorders_separate, order_lengths, axis=0)\n",
    "  \n",
    "  # For the reorder lengths we have to actually count the IDs\n",
    "  reorder_lengths = [np.count_nonzero(reorder) for reorder in reorders_separate]\n",
    "  \n",
    "  # Also repeat each user ID the appropriate number of times\n",
    "  user_ids = np.repeat(users_dataset[indices], order_lengths)\n",
    "  \n",
    "  # We don't need to repeat the item IDs, each training instance corresponds\n",
    "  # to a single item, to we just concatenate them into a single array\n",
    "  item_ids = np.hstack(items_dataset[indices])\n",
    "  \n",
    "  # Calculate continuous features: currently just order size and reorder size\n",
    "  # (both normalized by biggest_order_size), repeated over all items in order\n",
    "  order_size_vec = np.array(order_lengths, dtype=np.float32) / biggest_order_size\n",
    "  reorder_size_vec = np.array(reorder_lengths, dtype=np.float32) / biggest_order_size\n",
    "  order_size_data = np.repeat(order_size_vec, order_lengths, axis=0)\n",
    "  reorder_size_data = np.repeat(reorder_size_vec, order_lengths, axis=0)\n",
    "  cont_features = np.vstack([reorder_size_data, order_size_data]).T\n",
    "  \n",
    "  # Now we return a bunch of things:\n",
    "  #   orders_data is a zero-padded matrix of IDs, num instances x biggest_order_size\n",
    "  #   reorders_data is a zero-padded matrix of IDs, same size as orders_data\n",
    "  #   user_ids is a vector of IDs, length = num instances\n",
    "  #   item_ids is a vector of IDs, length = num instances\n",
    "  #   cont_features is a matrix of floats, num instances x 2\n",
    "  #   labels is a vector of 0/1 values, length = num instances\n",
    "  #   order_lengths is a vector of ints, length = batch size\n",
    "  # where \"batch size\" is the number of orders in the batch, and\n",
    "  # \"num instances\" is the total number of items in the batch\n",
    "  # (the sum of all order sizes in the batch)\n",
    "  return (orders_data, reorders_data, user_ids, item_ids, cont_features, labels, order_lengths)\n",
    "\n",
    "\n",
    "def validate(model, class_weights):\n",
    "  \n",
    "  losses = []\n",
    "  labels = []\n",
    "  outputs = []\n",
    "  split_intervals = []\n",
    "  \n",
    "  # Process validation data one batch at a time\n",
    "  steps = num_valid // batch_size\n",
    "  for chunk in np.array_split(np.arange(num_valid, dtype=np.uint16), steps):\n",
    "    \n",
    "    indices = index_valid[chunk]\n",
    "    orders_valid, reorders_valid, users_valid, items_valid, cont_features_valid, labels_valid, lengths_valid = \\\n",
    "      make_training_data(indices)\n",
    "    \n",
    "    # This is so we weight the loss differently per class, so it's\n",
    "    # comparable with training loss\n",
    "    instance_weights = class_weights[labels_valid]\n",
    "      \n",
    "    split_intervals.append(np.cumsum(lengths_valid))\n",
    "    \n",
    "    # Feed the validation data into the model, with labels, and get the\n",
    "    # value of the loss function defined by the model (i.e. cross-entropy)\n",
    "    loss = model.test_on_batch({'order_input': orders_valid,\n",
    "                                'reorder_input': reorders_valid,\n",
    "                                'item_input': items_valid,\n",
    "                                'user_input': users_valid,\n",
    "                                'cont_features_input': cont_features_valid},\n",
    "                               labels_valid, sample_weight=instance_weights)\n",
    "    losses.append(loss)\n",
    "    labels.append(labels_valid)\n",
    "\n",
    "    # Feed the validation data into the model WITHOUT labels, and get\n",
    "    # the output of the final layer of the model -- this is a vector\n",
    "    # with the same length as the number of instances (total items)\n",
    "    # in the validation set\n",
    "    output = model.predict_on_batch({'order_input': orders_valid,\n",
    "                                     'reorder_input': reorders_valid,\n",
    "                                     'item_input': items_valid,\n",
    "                                     'user_input': users_valid,\n",
    "                                     'cont_features_input': cont_features_valid})\n",
    "    outputs.append(output)\n",
    "    \n",
    "  # Flatten per-batch outputs and labels into single arrays, then\n",
    "  # re-split labels into one array per order\n",
    "  outputs_flat = np.vstack(outputs)\n",
    "  labels_flat = np.hstack(labels)\n",
    "  split_intervals_flat = np.hstack(split_intervals)\n",
    "  labels_split = np.split(labels_flat, split_intervals_flat)[:-1]\n",
    "  \n",
    "  # Convert the continuous output values (0-1 range) into 1s and 0s\n",
    "  thresholded = np.where(outputs_flat > 0.5, 1, 0)\n",
    "\n",
    "  # Split these binary predictions into individual arrays, one for\n",
    "  # each order in the validation data, so they align with the labels\n",
    "  preds_split = np.split(thresholded, split_intervals_flat)[:-1]\n",
    "  \n",
    "  # Calculate precision and recall for each order, taking care to\n",
    "  # avoid divide-by-zero errors where there are no 1s in the\n",
    "  # predictions or labels for an order\n",
    "  precision = np.zeros(num_valid)\n",
    "  recall = np.zeros(num_valid)\n",
    "  for i, (preds, labels) in enumerate(zip(preds_split, labels_split)):\n",
    "    matches = float(sum(preds.T[0] * labels))\n",
    "    if sum(preds) > 0:\n",
    "      precision[i] = matches / sum(preds)\n",
    "    if sum(labels) > 0:\n",
    "      recall[i] = matches / sum(labels)\n",
    "    \n",
    "  # Calculate f-measure for each order, and return all these metrics,\n",
    "  # averaged across all the orders in the validation set\n",
    "  f1 = np.nan_to_num((2 * precision * recall) / (precision + recall))\n",
    "  return (np.mean(losses), precision.mean(), recall.mean(), f1.mean())"
   ]
  },
  {
   "cell_type": "markdown",
   "metadata": {},
   "source": [
    "Finally it's time to train the model.\n",
    "\n",
    "We do this by defining a generator that Keras runs in a separate thread -- this is invoked repeatedly by Keras, and each time, it grabs the next batch of indices and yields the result of calling `make_training_data` on these.\n",
    "\n",
    "The `epochs` constant configures how many whole passes through the data we do, scoring the model's predictions on the validation set after each one. After the last epoch you can re-run the cell manually -- it will continue training from where it left off, although the epoch number reported will reset to \"1\" when you restart it. If you want to totally reset the model, rerun the model definition cell above.\n",
    "\n",
    "### Note about warnings\n",
    "\n",
    "You may see a warning about a `StopIteration` exception at the end of each epoch. It's safe to ignore this, it's an artefact of how Keras invokes the generator.\n",
    "\n",
    "You might also see a warning about invalid values in a divide, which occurs if one or more orders have both a precision _and_ recall of 0. It's also fine to ignore this, as the resulting NaNs are converted to zeros before averaging across the validation data."
   ]
  },
  {
   "cell_type": "code",
   "execution_count": 19,
   "metadata": {
    "scrolled": false
   },
   "outputs": [
    {
     "name": "stdout",
     "output_type": "stream",
     "text": [
      "Batch size: 1000\n",
      "Training examples: 2933665\n",
      "Batches per epoch: 2933\n"
     ]
    },
    {
     "name": "stderr",
     "output_type": "stream",
     "text": [
      "/home/andrew/anaconda2/lib/python2.7/site-packages/ipykernel_launcher.py:122: RuntimeWarning: invalid value encountered in divide\n"
     ]
    },
    {
     "name": "stdout",
     "output_type": "stream",
     "text": [
      "Initial validation: loss = 0.69894, P = 0.23398, R = 0.26780, F = 0.21331\n",
      "Starting epoch 0\n",
      "Learning rate: 0.10000\n",
      "Epoch 1/1\n",
      "2932/2933 [============================>.] - ETA: 0s - loss: 0.6669"
     ]
    },
    {
     "name": "stderr",
     "output_type": "stream",
     "text": [
      "Exception in thread Thread-19:\n",
      "Traceback (most recent call last):\n",
      "  File \"/home/andrew/anaconda2/lib/python2.7/threading.py\", line 801, in __bootstrap_inner\n",
      "    self.run()\n",
      "  File \"/home/andrew/anaconda2/lib/python2.7/threading.py\", line 754, in run\n",
      "    self.__target(*self.__args, **self.__kwargs)\n",
      "  File \"/home/andrew/anaconda2/lib/python2.7/site-packages/keras/engine/training.py\", line 612, in data_generator_task\n",
      "    generator_output = next(self._generator)\n",
      "StopIteration\n",
      "\n"
     ]
    },
    {
     "name": "stdout",
     "output_type": "stream",
     "text": [
      "2933/2933 [==============================] - 827s - loss: 0.6669   \n",
      "Validation: loss = 0.68261, P = 0.25949, R = 0.25388, F = 0.21882\n",
      "Shuffling training data\n",
      "Starting epoch 1\n",
      "Learning rate: 0.09715\n",
      "Epoch 1/1\n",
      "2932/2933 [============================>.] - ETA: 0s - loss: 0.6528"
     ]
    },
    {
     "name": "stderr",
     "output_type": "stream",
     "text": [
      "Exception in thread Thread-20:\n",
      "Traceback (most recent call last):\n",
      "  File \"/home/andrew/anaconda2/lib/python2.7/threading.py\", line 801, in __bootstrap_inner\n",
      "    self.run()\n",
      "  File \"/home/andrew/anaconda2/lib/python2.7/threading.py\", line 754, in run\n",
      "    self.__target(*self.__args, **self.__kwargs)\n",
      "  File \"/home/andrew/anaconda2/lib/python2.7/site-packages/keras/engine/training.py\", line 612, in data_generator_task\n",
      "    generator_output = next(self._generator)\n",
      "StopIteration\n",
      "\n"
     ]
    },
    {
     "name": "stdout",
     "output_type": "stream",
     "text": [
      "2933/2933 [==============================] - 823s - loss: 0.6528   \n",
      "Validation: loss = 0.71745, P = 0.28483, R = 0.65826, F = 0.36576\n",
      "Shuffling training data\n",
      "Starting epoch 2\n",
      "Learning rate: 0.09446\n",
      "Epoch 1/1\n",
      "2932/2933 [============================>.] - ETA: 0s - loss: 0.6453"
     ]
    },
    {
     "name": "stderr",
     "output_type": "stream",
     "text": [
      "Exception in thread Thread-21:\n",
      "Traceback (most recent call last):\n",
      "  File \"/home/andrew/anaconda2/lib/python2.7/threading.py\", line 801, in __bootstrap_inner\n",
      "    self.run()\n",
      "  File \"/home/andrew/anaconda2/lib/python2.7/threading.py\", line 754, in run\n",
      "    self.__target(*self.__args, **self.__kwargs)\n",
      "  File \"/home/andrew/anaconda2/lib/python2.7/site-packages/keras/engine/training.py\", line 612, in data_generator_task\n",
      "    generator_output = next(self._generator)\n",
      "StopIteration\n",
      "\n"
     ]
    },
    {
     "name": "stdout",
     "output_type": "stream",
     "text": [
      "2933/2933 [==============================] - 825s - loss: 0.6453   \n",
      "Validation: loss = 0.65243, P = 0.30303, R = 0.47586, F = 0.33244\n",
      "Shuffling training data\n",
      "Starting epoch 3\n",
      "Learning rate: 0.09191\n",
      "Epoch 1/1\n",
      "2932/2933 [============================>.] - ETA: 0s - loss: 0.6403"
     ]
    },
    {
     "name": "stderr",
     "output_type": "stream",
     "text": [
      "Exception in thread Thread-22:\n",
      "Traceback (most recent call last):\n",
      "  File \"/home/andrew/anaconda2/lib/python2.7/threading.py\", line 801, in __bootstrap_inner\n",
      "    self.run()\n",
      "  File \"/home/andrew/anaconda2/lib/python2.7/threading.py\", line 754, in run\n",
      "    self.__target(*self.__args, **self.__kwargs)\n",
      "  File \"/home/andrew/anaconda2/lib/python2.7/site-packages/keras/engine/training.py\", line 612, in data_generator_task\n",
      "    generator_output = next(self._generator)\n",
      "StopIteration\n",
      "\n"
     ]
    },
    {
     "name": "stdout",
     "output_type": "stream",
     "text": [
      "2933/2933 [==============================] - 823s - loss: 0.6403   \n",
      "Validation: loss = 0.64833, P = 0.30967, R = 0.47487, F = 0.33947\n",
      "Shuffling training data\n",
      "Starting epoch 4\n",
      "Learning rate: 0.08950\n",
      "Epoch 1/1\n",
      "2932/2933 [============================>.] - ETA: 0s - loss: 0.6369"
     ]
    },
    {
     "name": "stderr",
     "output_type": "stream",
     "text": [
      "Exception in thread Thread-23:\n",
      "Traceback (most recent call last):\n",
      "  File \"/home/andrew/anaconda2/lib/python2.7/threading.py\", line 801, in __bootstrap_inner\n",
      "    self.run()\n",
      "  File \"/home/andrew/anaconda2/lib/python2.7/threading.py\", line 754, in run\n",
      "    self.__target(*self.__args, **self.__kwargs)\n",
      "  File \"/home/andrew/anaconda2/lib/python2.7/site-packages/keras/engine/training.py\", line 612, in data_generator_task\n",
      "    generator_output = next(self._generator)\n",
      "StopIteration\n",
      "\n"
     ]
    },
    {
     "name": "stdout",
     "output_type": "stream",
     "text": [
      "2933/2933 [==============================] - 828s - loss: 0.6369   \n",
      "Validation: loss = 0.67272, P = 0.30506, R = 0.61044, F = 0.37256\n",
      "Shuffling training data\n",
      "Starting epoch 5\n",
      "Learning rate: 0.08721\n",
      "Epoch 1/1\n",
      "2932/2933 [============================>.] - ETA: 0s - loss: 0.6344"
     ]
    },
    {
     "name": "stderr",
     "output_type": "stream",
     "text": [
      "Exception in thread Thread-24:\n",
      "Traceback (most recent call last):\n",
      "  File \"/home/andrew/anaconda2/lib/python2.7/threading.py\", line 801, in __bootstrap_inner\n",
      "    self.run()\n",
      "  File \"/home/andrew/anaconda2/lib/python2.7/threading.py\", line 754, in run\n",
      "    self.__target(*self.__args, **self.__kwargs)\n",
      "  File \"/home/andrew/anaconda2/lib/python2.7/site-packages/keras/engine/training.py\", line 612, in data_generator_task\n",
      "    generator_output = next(self._generator)\n",
      "StopIteration\n",
      "\n"
     ]
    },
    {
     "name": "stdout",
     "output_type": "stream",
     "text": [
      "2933/2933 [==============================] - 826s - loss: 0.6344   \n",
      "Validation: loss = 0.83987, P = 0.16502, R = 0.12683, F = 0.12289\n",
      "Shuffling training data\n",
      "Starting epoch 6\n",
      "Learning rate: 0.08504\n",
      "Epoch 1/1\n",
      "2932/2933 [============================>.] - ETA: 0s - loss: 0.6323"
     ]
    },
    {
     "name": "stderr",
     "output_type": "stream",
     "text": [
      "Exception in thread Thread-25:\n",
      "Traceback (most recent call last):\n",
      "  File \"/home/andrew/anaconda2/lib/python2.7/threading.py\", line 801, in __bootstrap_inner\n",
      "    self.run()\n",
      "  File \"/home/andrew/anaconda2/lib/python2.7/threading.py\", line 754, in run\n",
      "    self.__target(*self.__args, **self.__kwargs)\n",
      "  File \"/home/andrew/anaconda2/lib/python2.7/site-packages/keras/engine/training.py\", line 612, in data_generator_task\n",
      "    generator_output = next(self._generator)\n",
      "StopIteration\n",
      "\n"
     ]
    },
    {
     "name": "stdout",
     "output_type": "stream",
     "text": [
      "2933/2933 [==============================] - 827s - loss: 0.6323   \n",
      "Validation: loss = 0.64423, P = 0.33139, R = 0.51350, F = 0.36693\n",
      "Shuffling training data\n",
      "Starting epoch 7\n",
      "Learning rate: 0.08297\n",
      "Epoch 1/1\n",
      "2932/2933 [============================>.] - ETA: 0s - loss: 0.6307"
     ]
    },
    {
     "name": "stderr",
     "output_type": "stream",
     "text": [
      "Exception in thread Thread-26:\n",
      "Traceback (most recent call last):\n",
      "  File \"/home/andrew/anaconda2/lib/python2.7/threading.py\", line 801, in __bootstrap_inner\n",
      "    self.run()\n",
      "  File \"/home/andrew/anaconda2/lib/python2.7/threading.py\", line 754, in run\n",
      "    self.__target(*self.__args, **self.__kwargs)\n",
      "  File \"/home/andrew/anaconda2/lib/python2.7/site-packages/keras/engine/training.py\", line 612, in data_generator_task\n",
      "    generator_output = next(self._generator)\n",
      "StopIteration\n",
      "\n"
     ]
    },
    {
     "name": "stdout",
     "output_type": "stream",
     "text": [
      "2933/2933 [==============================] - 825s - loss: 0.6307   \n",
      "Validation: loss = 0.64666, P = 0.31895, R = 0.36724, F = 0.30403\n",
      "Shuffling training data\n",
      "Starting epoch 8\n",
      "Learning rate: 0.08100\n",
      "Epoch 1/1\n",
      "2932/2933 [============================>.] - ETA: 0s - loss: 0.6291"
     ]
    },
    {
     "name": "stderr",
     "output_type": "stream",
     "text": [
      "Exception in thread Thread-27:\n",
      "Traceback (most recent call last):\n",
      "  File \"/home/andrew/anaconda2/lib/python2.7/threading.py\", line 801, in __bootstrap_inner\n",
      "    self.run()\n",
      "  File \"/home/andrew/anaconda2/lib/python2.7/threading.py\", line 754, in run\n",
      "    self.__target(*self.__args, **self.__kwargs)\n",
      "  File \"/home/andrew/anaconda2/lib/python2.7/site-packages/keras/engine/training.py\", line 612, in data_generator_task\n",
      "    generator_output = next(self._generator)\n",
      "StopIteration\n",
      "\n"
     ]
    },
    {
     "name": "stdout",
     "output_type": "stream",
     "text": [
      "2933/2933 [==============================] - 823s - loss: 0.6291   \n",
      "Validation: loss = 0.78119, P = 0.14097, R = 0.11667, F = 0.10754\n",
      "Shuffling training data\n",
      "Starting epoch 9\n",
      "Learning rate: 0.07912\n",
      "Epoch 1/1\n",
      "2932/2933 [============================>.] - ETA: 0s - loss: 0.6278"
     ]
    },
    {
     "name": "stderr",
     "output_type": "stream",
     "text": [
      "Exception in thread Thread-28:\n",
      "Traceback (most recent call last):\n",
      "  File \"/home/andrew/anaconda2/lib/python2.7/threading.py\", line 801, in __bootstrap_inner\n",
      "    self.run()\n",
      "  File \"/home/andrew/anaconda2/lib/python2.7/threading.py\", line 754, in run\n",
      "    self.__target(*self.__args, **self.__kwargs)\n",
      "  File \"/home/andrew/anaconda2/lib/python2.7/site-packages/keras/engine/training.py\", line 612, in data_generator_task\n",
      "    generator_output = next(self._generator)\n",
      "StopIteration\n",
      "\n"
     ]
    },
    {
     "name": "stdout",
     "output_type": "stream",
     "text": [
      "2933/2933 [==============================] - 824s - loss: 0.6278   \n",
      "Validation: loss = 0.63881, P = 0.32184, R = 0.43813, F = 0.33632\n",
      "Shuffling training data\n",
      "Starting epoch 10\n",
      "Learning rate: 0.07732\n",
      "Epoch 1/1\n",
      "2932/2933 [============================>.] - ETA: 0s - loss: 0.6264"
     ]
    },
    {
     "name": "stderr",
     "output_type": "stream",
     "text": [
      "Exception in thread Thread-29:\n",
      "Traceback (most recent call last):\n",
      "  File \"/home/andrew/anaconda2/lib/python2.7/threading.py\", line 801, in __bootstrap_inner\n",
      "    self.run()\n",
      "  File \"/home/andrew/anaconda2/lib/python2.7/threading.py\", line 754, in run\n",
      "    self.__target(*self.__args, **self.__kwargs)\n",
      "  File \"/home/andrew/anaconda2/lib/python2.7/site-packages/keras/engine/training.py\", line 612, in data_generator_task\n",
      "    generator_output = next(self._generator)\n",
      "StopIteration\n",
      "\n"
     ]
    },
    {
     "name": "stdout",
     "output_type": "stream",
     "text": [
      "2933/2933 [==============================] - 824s - loss: 0.6264   \n",
      "Validation: loss = 0.71805, P = 0.30267, R = 0.69618, F = 0.39227\n",
      "Shuffling training data\n",
      "Starting epoch 11\n",
      "Learning rate: 0.07561\n",
      "Epoch 1/1\n",
      "2932/2933 [============================>.] - ETA: 0s - loss: 0.6251"
     ]
    },
    {
     "name": "stderr",
     "output_type": "stream",
     "text": [
      "Exception in thread Thread-30:\n",
      "Traceback (most recent call last):\n",
      "  File \"/home/andrew/anaconda2/lib/python2.7/threading.py\", line 801, in __bootstrap_inner\n",
      "    self.run()\n",
      "  File \"/home/andrew/anaconda2/lib/python2.7/threading.py\", line 754, in run\n",
      "    self.__target(*self.__args, **self.__kwargs)\n",
      "  File \"/home/andrew/anaconda2/lib/python2.7/site-packages/keras/engine/training.py\", line 612, in data_generator_task\n",
      "    generator_output = next(self._generator)\n",
      "StopIteration\n",
      "\n"
     ]
    },
    {
     "name": "stdout",
     "output_type": "stream",
     "text": [
      "2933/2933 [==============================] - 825s - loss: 0.6251   \n",
      "Validation: loss = 0.69067, P = 0.20317, R = 0.26232, F = 0.19880\n",
      "Shuffling training data\n",
      "Starting epoch 12\n",
      "Learning rate: 0.07397\n",
      "Epoch 1/1\n",
      "2932/2933 [============================>.] - ETA: 0s - loss: 0.6237"
     ]
    },
    {
     "name": "stderr",
     "output_type": "stream",
     "text": [
      "Exception in thread Thread-31:\n",
      "Traceback (most recent call last):\n",
      "  File \"/home/andrew/anaconda2/lib/python2.7/threading.py\", line 801, in __bootstrap_inner\n",
      "    self.run()\n",
      "  File \"/home/andrew/anaconda2/lib/python2.7/threading.py\", line 754, in run\n",
      "    self.__target(*self.__args, **self.__kwargs)\n",
      "  File \"/home/andrew/anaconda2/lib/python2.7/site-packages/keras/engine/training.py\", line 612, in data_generator_task\n",
      "    generator_output = next(self._generator)\n",
      "StopIteration\n",
      "\n"
     ]
    },
    {
     "name": "stdout",
     "output_type": "stream",
     "text": [
      "2933/2933 [==============================] - 825s - loss: 0.6237   \n",
      "Validation: loss = 0.64433, P = 0.33608, R = 0.40492, F = 0.33146\n",
      "Shuffling training data\n",
      "Starting epoch 13\n",
      "Learning rate: 0.07240\n",
      "Epoch 1/1\n",
      "2932/2933 [============================>.] - ETA: 0s - loss: 0.6222"
     ]
    },
    {
     "name": "stderr",
     "output_type": "stream",
     "text": [
      "Exception in thread Thread-32:\n",
      "Traceback (most recent call last):\n",
      "  File \"/home/andrew/anaconda2/lib/python2.7/threading.py\", line 801, in __bootstrap_inner\n",
      "    self.run()\n",
      "  File \"/home/andrew/anaconda2/lib/python2.7/threading.py\", line 754, in run\n",
      "    self.__target(*self.__args, **self.__kwargs)\n",
      "  File \"/home/andrew/anaconda2/lib/python2.7/site-packages/keras/engine/training.py\", line 612, in data_generator_task\n",
      "    generator_output = next(self._generator)\n",
      "StopIteration\n",
      "\n"
     ]
    },
    {
     "name": "stdout",
     "output_type": "stream",
     "text": [
      "2933/2933 [==============================] - 826s - loss: 0.6222   \n",
      "Validation: loss = 0.72096, P = 0.24003, R = 0.21870, F = 0.20165\n",
      "Shuffling training data\n",
      "Starting epoch 14\n",
      "Learning rate: 0.07089\n",
      "Epoch 1/1\n",
      "2932/2933 [============================>.] - ETA: 0s - loss: 0.6207"
     ]
    },
    {
     "name": "stderr",
     "output_type": "stream",
     "text": [
      "Exception in thread Thread-33:\n",
      "Traceback (most recent call last):\n",
      "  File \"/home/andrew/anaconda2/lib/python2.7/threading.py\", line 801, in __bootstrap_inner\n",
      "    self.run()\n",
      "  File \"/home/andrew/anaconda2/lib/python2.7/threading.py\", line 754, in run\n",
      "    self.__target(*self.__args, **self.__kwargs)\n",
      "  File \"/home/andrew/anaconda2/lib/python2.7/site-packages/keras/engine/training.py\", line 612, in data_generator_task\n",
      "    generator_output = next(self._generator)\n",
      "StopIteration\n",
      "\n"
     ]
    },
    {
     "name": "stdout",
     "output_type": "stream",
     "text": [
      "2933/2933 [==============================] - 825s - loss: 0.6207   \n",
      "Validation: loss = 0.67594, P = 0.30216, R = 0.23507, F = 0.23549\n",
      "Shuffling training data\n",
      "Starting epoch 15\n",
      "Learning rate: 0.06945\n",
      "Epoch 1/1\n",
      "2932/2933 [============================>.] - ETA: 0s - loss: 0.6190"
     ]
    },
    {
     "name": "stderr",
     "output_type": "stream",
     "text": [
      "Exception in thread Thread-34:\n",
      "Traceback (most recent call last):\n",
      "  File \"/home/andrew/anaconda2/lib/python2.7/threading.py\", line 801, in __bootstrap_inner\n",
      "    self.run()\n",
      "  File \"/home/andrew/anaconda2/lib/python2.7/threading.py\", line 754, in run\n",
      "    self.__target(*self.__args, **self.__kwargs)\n",
      "  File \"/home/andrew/anaconda2/lib/python2.7/site-packages/keras/engine/training.py\", line 612, in data_generator_task\n",
      "    generator_output = next(self._generator)\n",
      "StopIteration\n",
      "\n"
     ]
    },
    {
     "name": "stdout",
     "output_type": "stream",
     "text": [
      "2933/2933 [==============================] - 825s - loss: 0.6190   \n",
      "Validation: loss = 0.71317, P = 0.30293, R = 0.67961, F = 0.38913\n",
      "Shuffling training data\n",
      "Starting epoch 16\n",
      "Learning rate: 0.06806\n",
      "Epoch 1/1\n",
      "2932/2933 [============================>.] - ETA: 0s - loss: 0.6174"
     ]
    },
    {
     "name": "stderr",
     "output_type": "stream",
     "text": [
      "Exception in thread Thread-35:\n",
      "Traceback (most recent call last):\n",
      "  File \"/home/andrew/anaconda2/lib/python2.7/threading.py\", line 801, in __bootstrap_inner\n",
      "    self.run()\n",
      "  File \"/home/andrew/anaconda2/lib/python2.7/threading.py\", line 754, in run\n",
      "    self.__target(*self.__args, **self.__kwargs)\n",
      "  File \"/home/andrew/anaconda2/lib/python2.7/site-packages/keras/engine/training.py\", line 612, in data_generator_task\n",
      "    generator_output = next(self._generator)\n",
      "StopIteration\n",
      "\n"
     ]
    },
    {
     "name": "stdout",
     "output_type": "stream",
     "text": [
      "2933/2933 [==============================] - 824s - loss: 0.6174   \n",
      "Validation: loss = 0.71551, P = 0.18084, R = 0.17432, F = 0.15315\n",
      "Shuffling training data\n",
      "Starting epoch 17\n",
      "Learning rate: 0.06673\n",
      "Epoch 1/1\n",
      "2932/2933 [============================>.] - ETA: 0s - loss: 0.6157"
     ]
    },
    {
     "name": "stderr",
     "output_type": "stream",
     "text": [
      "Exception in thread Thread-36:\n",
      "Traceback (most recent call last):\n",
      "  File \"/home/andrew/anaconda2/lib/python2.7/threading.py\", line 801, in __bootstrap_inner\n",
      "    self.run()\n",
      "  File \"/home/andrew/anaconda2/lib/python2.7/threading.py\", line 754, in run\n",
      "    self.__target(*self.__args, **self.__kwargs)\n",
      "  File \"/home/andrew/anaconda2/lib/python2.7/site-packages/keras/engine/training.py\", line 612, in data_generator_task\n",
      "    generator_output = next(self._generator)\n",
      "StopIteration\n",
      "\n"
     ]
    },
    {
     "name": "stdout",
     "output_type": "stream",
     "text": [
      "2933/2933 [==============================] - 824s - loss: 0.6157   \n",
      "Validation: loss = 0.66185, P = 0.32074, R = 0.32816, F = 0.29157\n",
      "Shuffling training data\n",
      "Starting epoch 18\n",
      "Learning rate: 0.06545\n",
      "Epoch 1/1\n",
      "2932/2933 [============================>.] - ETA: 0s - loss: 0.6140"
     ]
    },
    {
     "name": "stderr",
     "output_type": "stream",
     "text": [
      "Exception in thread Thread-37:\n",
      "Traceback (most recent call last):\n",
      "  File \"/home/andrew/anaconda2/lib/python2.7/threading.py\", line 801, in __bootstrap_inner\n",
      "    self.run()\n",
      "  File \"/home/andrew/anaconda2/lib/python2.7/threading.py\", line 754, in run\n",
      "    self.__target(*self.__args, **self.__kwargs)\n",
      "  File \"/home/andrew/anaconda2/lib/python2.7/site-packages/keras/engine/training.py\", line 612, in data_generator_task\n",
      "    generator_output = next(self._generator)\n",
      "StopIteration\n",
      "\n"
     ]
    },
    {
     "name": "stdout",
     "output_type": "stream",
     "text": [
      "2933/2933 [==============================] - 824s - loss: 0.6140   \n",
      "Validation: loss = 0.63642, P = 0.32486, R = 0.43264, F = 0.33404\n",
      "Shuffling training data\n",
      "Starting epoch 19\n",
      "Learning rate: 0.06421\n",
      "Epoch 1/1\n",
      "2932/2933 [============================>.] - ETA: 0s - loss: 0.6124"
     ]
    },
    {
     "name": "stderr",
     "output_type": "stream",
     "text": [
      "Exception in thread Thread-38:\n",
      "Traceback (most recent call last):\n",
      "  File \"/home/andrew/anaconda2/lib/python2.7/threading.py\", line 801, in __bootstrap_inner\n",
      "    self.run()\n",
      "  File \"/home/andrew/anaconda2/lib/python2.7/threading.py\", line 754, in run\n",
      "    self.__target(*self.__args, **self.__kwargs)\n",
      "  File \"/home/andrew/anaconda2/lib/python2.7/site-packages/keras/engine/training.py\", line 612, in data_generator_task\n",
      "    generator_output = next(self._generator)\n",
      "StopIteration\n",
      "\n"
     ]
    },
    {
     "name": "stdout",
     "output_type": "stream",
     "text": [
      "2933/2933 [==============================] - 822s - loss: 0.6124   \n",
      "Validation: loss = 0.67092, P = 0.30290, R = 0.24306, F = 0.24054\n",
      "Shuffling training data\n",
      "Starting epoch 20\n",
      "Learning rate: 0.06303\n",
      "Epoch 1/1\n",
      "2932/2933 [============================>.] - ETA: 0s - loss: 0.6108"
     ]
    },
    {
     "name": "stderr",
     "output_type": "stream",
     "text": [
      "Exception in thread Thread-39:\n",
      "Traceback (most recent call last):\n",
      "  File \"/home/andrew/anaconda2/lib/python2.7/threading.py\", line 801, in __bootstrap_inner\n",
      "    self.run()\n",
      "  File \"/home/andrew/anaconda2/lib/python2.7/threading.py\", line 754, in run\n",
      "    self.__target(*self.__args, **self.__kwargs)\n",
      "  File \"/home/andrew/anaconda2/lib/python2.7/site-packages/keras/engine/training.py\", line 612, in data_generator_task\n",
      "    generator_output = next(self._generator)\n",
      "StopIteration\n",
      "\n"
     ]
    },
    {
     "name": "stdout",
     "output_type": "stream",
     "text": [
      "2933/2933 [==============================] - 822s - loss: 0.6108   \n",
      "Validation: loss = 0.64407, P = 0.29671, R = 0.29686, F = 0.26484\n",
      "Shuffling training data\n",
      "Starting epoch 21\n",
      "Learning rate: 0.06188\n",
      "Epoch 1/1\n",
      "2932/2933 [============================>.] - ETA: 0s - loss: 0.6093"
     ]
    },
    {
     "name": "stderr",
     "output_type": "stream",
     "text": [
      "Exception in thread Thread-40:\n",
      "Traceback (most recent call last):\n",
      "  File \"/home/andrew/anaconda2/lib/python2.7/threading.py\", line 801, in __bootstrap_inner\n",
      "    self.run()\n",
      "  File \"/home/andrew/anaconda2/lib/python2.7/threading.py\", line 754, in run\n",
      "    self.__target(*self.__args, **self.__kwargs)\n",
      "  File \"/home/andrew/anaconda2/lib/python2.7/site-packages/keras/engine/training.py\", line 612, in data_generator_task\n",
      "    generator_output = next(self._generator)\n",
      "StopIteration\n",
      "\n"
     ]
    },
    {
     "name": "stdout",
     "output_type": "stream",
     "text": [
      "2933/2933 [==============================] - 823s - loss: 0.6093   \n",
      "Validation: loss = 0.63764, P = 0.32707, R = 0.53924, F = 0.37387\n",
      "Shuffling training data\n",
      "Starting epoch 22\n",
      "Learning rate: 0.06078\n",
      "Epoch 1/1\n",
      "2932/2933 [============================>.] - ETA: 0s - loss: 0.6079"
     ]
    },
    {
     "name": "stderr",
     "output_type": "stream",
     "text": [
      "Exception in thread Thread-41:\n",
      "Traceback (most recent call last):\n",
      "  File \"/home/andrew/anaconda2/lib/python2.7/threading.py\", line 801, in __bootstrap_inner\n",
      "    self.run()\n",
      "  File \"/home/andrew/anaconda2/lib/python2.7/threading.py\", line 754, in run\n",
      "    self.__target(*self.__args, **self.__kwargs)\n",
      "  File \"/home/andrew/anaconda2/lib/python2.7/site-packages/keras/engine/training.py\", line 612, in data_generator_task\n",
      "    generator_output = next(self._generator)\n",
      "StopIteration\n",
      "\n"
     ]
    },
    {
     "name": "stdout",
     "output_type": "stream",
     "text": [
      "2933/2933 [==============================] - 822s - loss: 0.6079   \n",
      "Validation: loss = 0.64388, P = 0.29643, R = 0.30101, F = 0.26665\n",
      "Shuffling training data\n",
      "Starting epoch 23\n",
      "Learning rate: 0.05972\n",
      "Epoch 1/1\n",
      "2932/2933 [============================>.] - ETA: 0s - loss: 0.6066"
     ]
    },
    {
     "name": "stderr",
     "output_type": "stream",
     "text": [
      "Exception in thread Thread-42:\n",
      "Traceback (most recent call last):\n",
      "  File \"/home/andrew/anaconda2/lib/python2.7/threading.py\", line 801, in __bootstrap_inner\n",
      "    self.run()\n",
      "  File \"/home/andrew/anaconda2/lib/python2.7/threading.py\", line 754, in run\n",
      "    self.__target(*self.__args, **self.__kwargs)\n",
      "  File \"/home/andrew/anaconda2/lib/python2.7/site-packages/keras/engine/training.py\", line 612, in data_generator_task\n",
      "    generator_output = next(self._generator)\n",
      "StopIteration\n",
      "\n"
     ]
    },
    {
     "name": "stdout",
     "output_type": "stream",
     "text": [
      "2933/2933 [==============================] - 822s - loss: 0.6066   \n",
      "Validation: loss = 0.67338, P = 0.31089, R = 0.64096, F = 0.38779\n",
      "Shuffling training data\n",
      "Starting epoch 24\n",
      "Learning rate: 0.05869\n",
      "Epoch 1/1\n",
      "2932/2933 [============================>.] - ETA: 0s - loss: 0.6054"
     ]
    },
    {
     "name": "stderr",
     "output_type": "stream",
     "text": [
      "Exception in thread Thread-43:\n",
      "Traceback (most recent call last):\n",
      "  File \"/home/andrew/anaconda2/lib/python2.7/threading.py\", line 801, in __bootstrap_inner\n",
      "    self.run()\n",
      "  File \"/home/andrew/anaconda2/lib/python2.7/threading.py\", line 754, in run\n",
      "    self.__target(*self.__args, **self.__kwargs)\n",
      "  File \"/home/andrew/anaconda2/lib/python2.7/site-packages/keras/engine/training.py\", line 612, in data_generator_task\n",
      "    generator_output = next(self._generator)\n",
      "StopIteration\n",
      "\n"
     ]
    },
    {
     "name": "stdout",
     "output_type": "stream",
     "text": [
      "2933/2933 [==============================] - 820s - loss: 0.6054   \n",
      "Validation: loss = 0.63103, P = 0.31964, R = 0.55892, F = 0.37491\n",
      "Shuffling training data\n",
      "Starting epoch 25\n",
      "Learning rate: 0.05770\n",
      "Epoch 1/1\n",
      "2932/2933 [============================>.] - ETA: 0s - loss: 0.6043"
     ]
    },
    {
     "name": "stderr",
     "output_type": "stream",
     "text": [
      "Exception in thread Thread-44:\n",
      "Traceback (most recent call last):\n",
      "  File \"/home/andrew/anaconda2/lib/python2.7/threading.py\", line 801, in __bootstrap_inner\n",
      "    self.run()\n",
      "  File \"/home/andrew/anaconda2/lib/python2.7/threading.py\", line 754, in run\n",
      "    self.__target(*self.__args, **self.__kwargs)\n",
      "  File \"/home/andrew/anaconda2/lib/python2.7/site-packages/keras/engine/training.py\", line 612, in data_generator_task\n",
      "    generator_output = next(self._generator)\n",
      "StopIteration\n",
      "\n"
     ]
    },
    {
     "name": "stdout",
     "output_type": "stream",
     "text": [
      "2933/2933 [==============================] - 823s - loss: 0.6043   \n",
      "Validation: loss = 0.63780, P = 0.33166, R = 0.40182, F = 0.33028\n",
      "Shuffling training data\n",
      "Starting epoch 26\n",
      "Learning rate: 0.05674\n",
      "Epoch 1/1\n",
      "2932/2933 [============================>.] - ETA: 0s - loss: 0.6031"
     ]
    },
    {
     "name": "stderr",
     "output_type": "stream",
     "text": [
      "Exception in thread Thread-45:\n",
      "Traceback (most recent call last):\n",
      "  File \"/home/andrew/anaconda2/lib/python2.7/threading.py\", line 801, in __bootstrap_inner\n",
      "    self.run()\n",
      "  File \"/home/andrew/anaconda2/lib/python2.7/threading.py\", line 754, in run\n",
      "    self.__target(*self.__args, **self.__kwargs)\n",
      "  File \"/home/andrew/anaconda2/lib/python2.7/site-packages/keras/engine/training.py\", line 612, in data_generator_task\n",
      "    generator_output = next(self._generator)\n",
      "StopIteration\n",
      "\n"
     ]
    },
    {
     "name": "stdout",
     "output_type": "stream",
     "text": [
      "2933/2933 [==============================] - 822s - loss: 0.6031   \n",
      "Validation: loss = 0.62052, P = 0.33769, R = 0.47950, F = 0.36358\n",
      "Shuffling training data\n",
      "Starting epoch 27\n",
      "Learning rate: 0.05581\n",
      "Epoch 1/1\n",
      "2932/2933 [============================>.] - ETA: 0s - loss: 0.6021"
     ]
    },
    {
     "name": "stderr",
     "output_type": "stream",
     "text": [
      "Exception in thread Thread-46:\n",
      "Traceback (most recent call last):\n",
      "  File \"/home/andrew/anaconda2/lib/python2.7/threading.py\", line 801, in __bootstrap_inner\n",
      "    self.run()\n",
      "  File \"/home/andrew/anaconda2/lib/python2.7/threading.py\", line 754, in run\n",
      "    self.__target(*self.__args, **self.__kwargs)\n",
      "  File \"/home/andrew/anaconda2/lib/python2.7/site-packages/keras/engine/training.py\", line 612, in data_generator_task\n",
      "    generator_output = next(self._generator)\n",
      "StopIteration\n",
      "\n"
     ]
    },
    {
     "name": "stdout",
     "output_type": "stream",
     "text": [
      "2933/2933 [==============================] - 823s - loss: 0.6021   \n",
      "Validation: loss = 0.63116, P = 0.32525, R = 0.59191, F = 0.38922\n",
      "Shuffling training data\n",
      "Starting epoch 28\n",
      "Learning rate: 0.05491\n",
      "Epoch 1/1\n",
      "2932/2933 [============================>.] - ETA: 0s - loss: 0.6012"
     ]
    },
    {
     "name": "stderr",
     "output_type": "stream",
     "text": [
      "Exception in thread Thread-47:\n",
      "Traceback (most recent call last):\n",
      "  File \"/home/andrew/anaconda2/lib/python2.7/threading.py\", line 801, in __bootstrap_inner\n",
      "    self.run()\n",
      "  File \"/home/andrew/anaconda2/lib/python2.7/threading.py\", line 754, in run\n",
      "    self.__target(*self.__args, **self.__kwargs)\n",
      "  File \"/home/andrew/anaconda2/lib/python2.7/site-packages/keras/engine/training.py\", line 612, in data_generator_task\n",
      "    generator_output = next(self._generator)\n",
      "StopIteration\n",
      "\n"
     ]
    },
    {
     "name": "stdout",
     "output_type": "stream",
     "text": [
      "2933/2933 [==============================] - 827s - loss: 0.6012   \n",
      "Validation: loss = 0.64119, P = 0.31644, R = 0.32839, F = 0.29019\n",
      "Shuffling training data\n",
      "Starting epoch 29\n",
      "Learning rate: 0.05404\n",
      "Epoch 1/1\n",
      "2932/2933 [============================>.] - ETA: 0s - loss: 0.6004"
     ]
    },
    {
     "name": "stderr",
     "output_type": "stream",
     "text": [
      "Exception in thread Thread-48:\n",
      "Traceback (most recent call last):\n",
      "  File \"/home/andrew/anaconda2/lib/python2.7/threading.py\", line 801, in __bootstrap_inner\n",
      "    self.run()\n",
      "  File \"/home/andrew/anaconda2/lib/python2.7/threading.py\", line 754, in run\n",
      "    self.__target(*self.__args, **self.__kwargs)\n",
      "  File \"/home/andrew/anaconda2/lib/python2.7/site-packages/keras/engine/training.py\", line 612, in data_generator_task\n",
      "    generator_output = next(self._generator)\n",
      "StopIteration\n",
      "\n"
     ]
    },
    {
     "name": "stdout",
     "output_type": "stream",
     "text": [
      "2933/2933 [==============================] - 827s - loss: 0.6004   \n",
      "Validation: loss = 0.61642, P = 0.33592, R = 0.50748, F = 0.37070\n",
      "Shuffling training data\n"
     ]
    }
   ],
   "source": [
    "steps_per_epoch = num_rows // batch_size\n",
    "epochs = 30\n",
    "\n",
    "print(\"Batch size: %d\" % batch_size)\n",
    "print(\"Training examples: %d\" % num_rows)\n",
    "print(\"Batches per epoch: %d\" % steps_per_epoch)\n",
    "\n",
    "print(\"Initial validation: loss = %0.5f, P = %0.5f, R = %0.5f, F = %0.5f\"\n",
    "      % validate(model, class_weights))\n",
    "\n",
    "for epoch in range(epochs):\n",
    "  \n",
    "  def train_data_generator():\n",
    "    for chunk in np.array_split(index_train, steps_per_epoch):\n",
    "      orders_data, reorders_data, user_ids, item_ids, cont_features, labels, item_lengths = \\\n",
    "        make_training_data(chunk)\n",
    "      yield ({'order_input': orders_data,\n",
    "              'reorder_input': reorders_data,\n",
    "              'item_input': item_ids,\n",
    "              'user_input': user_ids,\n",
    "              'cont_features_input': cont_features},\n",
    "             {'output': labels})\n",
    "    return\n",
    "\n",
    "  # Train the model on the entire training set\n",
    "  print(\"Starting epoch %d\" % epoch)\n",
    "  print(\"Learning rate: %0.5f\" %\n",
    "        K.eval(model.optimizer.lr * (1. / (1. + model.optimizer.decay * model.optimizer.iterations))))\n",
    "  \n",
    "  model.fit_generator(\n",
    "    train_data_generator(), steps_per_epoch=steps_per_epoch, epochs=1, max_q_size=1,\n",
    "    class_weight={0: class_weights[0], 1: class_weights[1]})\n",
    "  \n",
    "  # Score it against the validation set\n",
    "  print(\"Validation: loss = %0.5f, P = %0.5f, R = %0.5f, F = %0.5f\"\n",
    "        % validate(model, class_weights))\n",
    "  \n",
    "  # Shuffle the training data (actually just the indices) for next epoch\n",
    "  print(\"Shuffling training data\")\n",
    "  np.random.shuffle(index_train)"
   ]
  },
  {
   "cell_type": "markdown",
   "metadata": {},
   "source": [
    "## TODO\n",
    "\n",
    "* Decay learning rate less rapidly\n",
    "* Maybe don't use BN over the concatenated vector\n",
    "* Put the BN before the RELU\n",
    "* Add dropout over the input items, as in the DAN paper\n",
    "\n",
    "\"Deep Unordered Composition Rivals Syntactic Methods for Text Classification\""
   ]
  },
  {
   "cell_type": "markdown",
   "metadata": {},
   "source": [
    "## Remaining work\n",
    "\n",
    "There are a few outstanding TODOs that would make this training loop more useful on real work:\n",
    "\n",
    "* Make the generator 'greedier' by using multiple workers and a longer queue, this should speed it up\n",
    "* See if it's possible to push some of the work of `make_training_data` into TensorFlow on the GPU instead\n",
    "* Save the model to disk after every epoch\n",
    "* Terminate training early if validation F-measure stagnates\n",
    "* Reduce the learning rate manually if the training loss stagnates\n",
    "* Test on a held-out set from the end of the time period (see notes at top of file)\n",
    "\n",
    "Also, the process of experimenting with the model structure or constants (size of layers, dropout rate etc.), or the optimizer parameters, is pretty tedious to do by hand.\n",
    "\n",
    "In real life, you'd want to write a hyperparameter tuning script that automatically generates a bunch of different model variants, trains them, tests them on the same validation data, and reports the results. You can do this in parallel over multiple servers to speed up the process."
   ]
  }
 ],
 "metadata": {
  "kernelspec": {
   "display_name": "Python 2",
   "language": "python",
   "name": "python2"
  },
  "language_info": {
   "codemirror_mode": {
    "name": "ipython",
    "version": 2
   },
   "file_extension": ".py",
   "mimetype": "text/x-python",
   "name": "python",
   "nbconvert_exporter": "python",
   "pygments_lexer": "ipython2",
   "version": "2.7.13"
  }
 },
 "nbformat": 4,
 "nbformat_minor": 2
}
