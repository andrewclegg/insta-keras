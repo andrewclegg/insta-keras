{
 "cells": [
  {
   "cell_type": "markdown",
   "metadata": {},
   "source": [
    "# Reorder size prediction\n",
    "\n",
    "From a given order, how well can we predict the number of items in it which will be reordered next time?"
   ]
  },
  {
   "cell_type": "code",
   "execution_count": 3,
   "metadata": {},
   "outputs": [],
   "source": [
    "import numpy as np\n",
    "import pandas as pd\n",
    "import h5py\n",
    "import shutil\n",
    "import os\n",
    "import time\n",
    "from itertools import *\n",
    "from collections import defaultdict\n",
    "import keras as k\n",
    "import keras.backend as K\n",
    "import tensorflow as tf\n",
    "\n",
    "csv_dir = '../csv/'\n",
    "h5_dir = 'h5/'\n",
    "\n",
    "path = os.path.join"
   ]
  },
  {
   "cell_type": "markdown",
   "metadata": {},
   "source": [
    "## CSV parsing\n",
    "\n",
    "First read the CSV files into Pandas. See the competition website for descriptions of these."
   ]
  },
  {
   "cell_type": "code",
   "execution_count": 4,
   "metadata": {},
   "outputs": [],
   "source": [
    "order_products_prior = pd.read_csv(path(csv_dir, 'order_products__prior.csv'), engine='c',\n",
    "                                   dtype={'order_id':np.int32, \n",
    "                                          'product_id':np.int32, \n",
    "                                          'add_to_cart_order':np.int8, \n",
    "                                          'reordered':np.int8})\n",
    "\n",
    "order_products_train = pd.read_csv(path(csv_dir, 'order_products__train.csv'), engine='c',\n",
    "                                   dtype={'order_id':np.int32, \n",
    "                                          'product_id':np.int32, \n",
    "                                          'add_to_cart_order':np.int8, \n",
    "                                          'reordered':np.int8})\n",
    "\n",
    "orders = pd.read_csv(path(csv_dir, 'orders.csv'), engine='c',\n",
    "                     dtype={'order_id':np.int32,\n",
    "                            'user_id':np.int32,\n",
    "                            'order_number':np.int8,\n",
    "                            'order_dow':np.int8,\n",
    "                            'order_hour_of_day':np.int8\n",
    "                           })\n",
    "\n",
    "products = pd.read_csv(path(csv_dir, 'products.csv'), engine='c',\n",
    "                       dtype={'product_id':np.int32,\n",
    "                              'aisle_id':np.int8,\n",
    "                              'department_id':np.int8\n",
    "                             })"
   ]
  },
  {
   "cell_type": "markdown",
   "metadata": {},
   "source": [
    "## Data preprocessing\n",
    "\n",
    "Now we need to process the data to:\n",
    "\n",
    "* Count the number of users and products, and the size of the biggest order\n",
    " * The model needs to know how big to make its inputs and embedding tables\n",
    "* Filter out each user's first order, for now\n",
    " * None of the items in those are reorders (by definition) so they make things harder for the model\n",
    " * NB this means we can't make predictions based on just one order, which is a tradeoff worth revisiting later\n",
    "* Retrieve pairs of consecutive order IDs for the same user\n",
    " * We're trying to predict the **number of** reorders in the second from the contents of the first"
   ]
  },
  {
   "cell_type": "code",
   "execution_count": 5,
   "metadata": {},
   "outputs": [
    {
     "data": {
      "text/plain": [
       "49688"
      ]
     },
     "execution_count": 5,
     "metadata": {},
     "output_type": "execute_result"
    }
   ],
   "source": [
    "max_product_id = max(products.product_id)\n",
    "max_product_id"
   ]
  },
  {
   "cell_type": "code",
   "execution_count": 6,
   "metadata": {},
   "outputs": [
    {
     "data": {
      "text/plain": [
       "206209"
      ]
     },
     "execution_count": 6,
     "metadata": {},
     "output_type": "execute_result"
    }
   ],
   "source": [
    "max_user_id = max(orders.user_id)\n",
    "max_user_id"
   ]
  },
  {
   "cell_type": "markdown",
   "metadata": {},
   "source": [
    "`order_products` tells us what products were present in each order, and which of those were reorders. It also contains an `add_to_cart_order` column that we're ignoring for this project."
   ]
  },
  {
   "cell_type": "code",
   "execution_count": 7,
   "metadata": {},
   "outputs": [
    {
     "data": {
      "text/html": [
       "<div>\n",
       "<style>\n",
       "    .dataframe thead tr:only-child th {\n",
       "        text-align: right;\n",
       "    }\n",
       "\n",
       "    .dataframe thead th {\n",
       "        text-align: left;\n",
       "    }\n",
       "\n",
       "    .dataframe tbody tr th {\n",
       "        vertical-align: top;\n",
       "    }\n",
       "</style>\n",
       "<table border=\"1\" class=\"dataframe\">\n",
       "  <thead>\n",
       "    <tr style=\"text-align: right;\">\n",
       "      <th></th>\n",
       "      <th>order_id</th>\n",
       "      <th>product_id</th>\n",
       "      <th>add_to_cart_order</th>\n",
       "    </tr>\n",
       "  </thead>\n",
       "  <tbody>\n",
       "    <tr>\n",
       "      <th>0</th>\n",
       "      <td>1</td>\n",
       "      <td>49302</td>\n",
       "      <td>1</td>\n",
       "    </tr>\n",
       "    <tr>\n",
       "      <th>1</th>\n",
       "      <td>1</td>\n",
       "      <td>11109</td>\n",
       "      <td>2</td>\n",
       "    </tr>\n",
       "    <tr>\n",
       "      <th>2</th>\n",
       "      <td>1</td>\n",
       "      <td>10246</td>\n",
       "      <td>3</td>\n",
       "    </tr>\n",
       "    <tr>\n",
       "      <th>3</th>\n",
       "      <td>1</td>\n",
       "      <td>49683</td>\n",
       "      <td>4</td>\n",
       "    </tr>\n",
       "    <tr>\n",
       "      <th>4</th>\n",
       "      <td>1</td>\n",
       "      <td>43633</td>\n",
       "      <td>5</td>\n",
       "    </tr>\n",
       "  </tbody>\n",
       "</table>\n",
       "</div>"
      ],
      "text/plain": [
       "   order_id  product_id  add_to_cart_order\n",
       "0         1       49302                  1\n",
       "1         1       11109                  2\n",
       "2         1       10246                  3\n",
       "3         1       49683                  4\n",
       "4         1       43633                  5"
      ]
     },
     "execution_count": 7,
     "metadata": {},
     "output_type": "execute_result"
    }
   ],
   "source": [
    "order_products = pd.concat([order_products_train, order_products_prior], axis=0\n",
    "                          )[['order_id', 'product_id', 'add_to_cart_order']]\n",
    "order_products.head()"
   ]
  },
  {
   "cell_type": "markdown",
   "metadata": {},
   "source": [
    "Now we need to generate the order pairs for each user. This will also take a few minutes.\n",
    "\n",
    "Some of the later orders will be in the Kaggle test set, which we're not using for this project (as our objective is slightly different from the Kaggle contest). So we filter down to only ones that we have data for."
   ]
  },
  {
   "cell_type": "code",
   "execution_count": 8,
   "metadata": {},
   "outputs": [
    {
     "data": {
      "text/html": [
       "<div>\n",
       "<style>\n",
       "    .dataframe thead tr:only-child th {\n",
       "        text-align: right;\n",
       "    }\n",
       "\n",
       "    .dataframe thead th {\n",
       "        text-align: left;\n",
       "    }\n",
       "\n",
       "    .dataframe tbody tr th {\n",
       "        vertical-align: top;\n",
       "    }\n",
       "</style>\n",
       "<table border=\"1\" class=\"dataframe\">\n",
       "  <thead>\n",
       "    <tr style=\"text-align: right;\">\n",
       "      <th></th>\n",
       "      <th>user_id</th>\n",
       "      <th>next</th>\n",
       "    </tr>\n",
       "    <tr>\n",
       "      <th>prev</th>\n",
       "      <th></th>\n",
       "      <th></th>\n",
       "    </tr>\n",
       "  </thead>\n",
       "  <tbody>\n",
       "    <tr>\n",
       "      <th>2539329</th>\n",
       "      <td>1</td>\n",
       "      <td>2398795</td>\n",
       "    </tr>\n",
       "    <tr>\n",
       "      <th>2398795</th>\n",
       "      <td>1</td>\n",
       "      <td>473747</td>\n",
       "    </tr>\n",
       "    <tr>\n",
       "      <th>473747</th>\n",
       "      <td>1</td>\n",
       "      <td>2254736</td>\n",
       "    </tr>\n",
       "    <tr>\n",
       "      <th>2254736</th>\n",
       "      <td>1</td>\n",
       "      <td>431534</td>\n",
       "    </tr>\n",
       "    <tr>\n",
       "      <th>431534</th>\n",
       "      <td>1</td>\n",
       "      <td>3367565</td>\n",
       "    </tr>\n",
       "  </tbody>\n",
       "</table>\n",
       "</div>"
      ],
      "text/plain": [
       "         user_id     next\n",
       "prev                     \n",
       "2539329        1  2398795\n",
       "2398795        1   473747\n",
       "473747         1  2254736\n",
       "2254736        1   431534\n",
       "431534         1  3367565"
      ]
     },
     "execution_count": 8,
     "metadata": {},
     "output_type": "execute_result"
    }
   ],
   "source": [
    "# From the itertools docs -- get consecutive pairs from a sequence\n",
    "def pairwise(iterable):\n",
    "  \"s -> (s0, s1), (s1, s2), (s2, s3), ...\"\n",
    "  a, b = tee(iterable)\n",
    "  next(b, None)\n",
    "  return izip(a, b)\n",
    "\n",
    "def make_x_y(order_ids):\n",
    "  pairs = list(pairwise(order_ids))\n",
    "  return pd.DataFrame.from_records(pairs, columns=['prev', 'next'])\n",
    "\n",
    "order_pairs = orders.sort_values(['user_id', 'order_number']).groupby(['user_id']).order_id.apply(make_x_y)\n",
    "order_pairs.reset_index(inplace=True)\n",
    "del order_pairs['level_1']\n",
    "order_pairs.set_index('prev', inplace=True)\n",
    "order_pairs.head()"
   ]
  },
  {
   "cell_type": "markdown",
   "metadata": {},
   "source": [
    "Training data is ordered, zero-padded product IDs. And also user IDs and size for each order (as a fraction of biggest order size).\n",
    "\n",
    "Labels is the fraction of IDs from *that* order that are present in the next one."
   ]
  },
  {
   "cell_type": "code",
   "execution_count": 9,
   "metadata": {},
   "outputs": [
    {
     "data": {
      "text/plain": [
       "order_id\n",
       "1    [49302, 11109, 10246, 49683, 43633, 13176, 472...\n",
       "2    [33120, 28985, 9327, 45918, 30035, 17794, 4014...\n",
       "3    [33754, 24838, 17704, 21903, 17668, 46667, 174...\n",
       "4    [46842, 26434, 39758, 27761, 10054, 21351, 225...\n",
       "5    [13176, 15005, 47329, 27966, 23909, 48370, 132...\n",
       "Name: product_id, dtype: object"
      ]
     },
     "execution_count": 9,
     "metadata": {},
     "output_type": "execute_result"
    }
   ],
   "source": [
    "products_per_order = order_products.sort_values(\n",
    "  by=['order_id', 'add_to_cart_order']).groupby(['order_id'], sort=False, group_keys=False).product_id.apply(list)\n",
    "\n",
    "products_per_order.head()"
   ]
  },
  {
   "cell_type": "code",
   "execution_count": 10,
   "metadata": {},
   "outputs": [
    {
     "data": {
      "text/plain": [
       "(3214874, 145)"
      ]
     },
     "execution_count": 10,
     "metadata": {},
     "output_type": "execute_result"
    }
   ],
   "source": [
    "num_rows = len(order_pairs)\n",
    "biggest_order_size = max(products_per_order.apply(len))\n",
    "(num_rows, biggest_order_size)"
   ]
  },
  {
   "cell_type": "code",
   "execution_count": 11,
   "metadata": {},
   "outputs": [],
   "source": [
    "order_matrix = np.zeros((num_rows, biggest_order_size), dtype=np.uint16)\n",
    "#order_sizes = np.zeros(num_rows, dtype=np.float32)\n",
    "#user_ids = np.zeros(num_rows, dtype=np.uint32)\n",
    "labels = np.zeros(num_rows, dtype=np.float32)\n",
    "\n",
    "row_idx = 0\n",
    "for order_id in order_pairs.index:\n",
    "  product_ids = products_per_order.loc[order_id]\n",
    "  order_matrix[row_idx, :len(product_ids)] = product_ids\n",
    "  #user_ids[row_idx] = order_pairs.loc[order_id].user_id\n",
    "  next_order_id = order_pairs.loc[order_id].next\n",
    "  if next_order_id in products_per_order.index:\n",
    "    next_product_ids = products_per_order.loc[next_order_id] \n",
    "  else:\n",
    "    next_product_ids = []\n",
    "  count = len(product_ids)\n",
    "  #order_sizes[row_idx] = float(count) / biggest_order_size\n",
    "  next_count = len(set(product_ids).intersection(next_product_ids))\n",
    "  labels[row_idx] = float(next_count) / count\n",
    "  row_idx += 1"
   ]
  },
  {
   "cell_type": "markdown",
   "metadata": {},
   "source": [
    "## Cleanup"
   ]
  },
  {
   "cell_type": "code",
   "execution_count": 12,
   "metadata": {
    "collapsed": true
   },
   "outputs": [],
   "source": [
    "del products_per_order\n",
    "del order_pairs\n",
    "del order_products\n",
    "del products\n",
    "del orders\n",
    "del order_products_train\n",
    "del order_products_prior"
   ]
  },
  {
   "cell_type": "markdown",
   "metadata": {},
   "source": [
    "## Network helpers"
   ]
  },
  {
   "cell_type": "code",
   "execution_count": 13,
   "metadata": {},
   "outputs": [],
   "source": [
    "class ZeroMaskedEntries(k.engine.topology.Layer):\n",
    "    \"\"\"\n",
    "    This layer is called after an Embedding layer.\n",
    "    It zeros out all of the masked-out embeddings.\n",
    "    It also swallows the mask without passing it on.\n",
    "    You can change this to default pass-on behavior as follows:\n",
    "\n",
    "    def compute_mask(self, x, mask=None):\n",
    "        if not self.mask_zero:\n",
    "            return None\n",
    "        else:\n",
    "            return K.not_equal(x, 0)\n",
    "    \"\"\"\n",
    "\n",
    "    def __init__(self, **kwargs):\n",
    "        self.support_mask = True\n",
    "        super(ZeroMaskedEntries, self).__init__(**kwargs)\n",
    "\n",
    "    def build(self, input_shape):\n",
    "        self.output_dim = input_shape[1]\n",
    "        self.repeat_dim = input_shape[2]\n",
    "\n",
    "    def call(self, x, mask=None):\n",
    "        mask = K.cast(mask, 'float32')\n",
    "        mask = K.repeat(mask, self.repeat_dim)\n",
    "        mask = K.permute_dimensions(mask, (0, 2, 1))\n",
    "        return x * mask\n",
    "\n",
    "    def compute_mask(self, input_shape, input_mask=None):\n",
    "        return None\n",
    "\n",
    "\n",
    "def mask_aware_mean(x):\n",
    "    # recreate the masks - all zero rows have been masked\n",
    "    mask = K.not_equal(K.sum(K.abs(x), axis=2, keepdims=True), 0)\n",
    "\n",
    "    # number of that rows are not all zeros\n",
    "    n = K.sum(K.cast(mask, 'float32'), axis=1, keepdims=False)\n",
    "    \n",
    "    # compute mask-aware mean of x, or all zeroes if no rows present\n",
    "    x_mean = K.sum(x, axis=1, keepdims=False) / n\n",
    "    x_mean = tf.where(tf.is_nan(x_mean), tf.zeros_like(x_mean), x_mean)\n",
    "    x_mean = tf.check_numerics(x_mean, 'fucksticks')\n",
    "\n",
    "    return x_mean\n",
    "\n",
    "\n",
    "def mask_aware_mean_output_shape(input_shape):\n",
    "    shape = list(input_shape)\n",
    "    assert len(shape) == 3 \n",
    "    return (shape[0], shape[2])"
   ]
  },
  {
   "cell_type": "markdown",
   "metadata": {},
   "source": [
    "## Constants for both models"
   ]
  },
  {
   "cell_type": "code",
   "execution_count": 19,
   "metadata": {
    "collapsed": true
   },
   "outputs": [],
   "source": [
    "batch_size = 100\n",
    "\n",
    "# Layer size constants\n",
    "#user_embedding_size = 50\n",
    "product_embedding_size = 50\n",
    "\n",
    "# TODO Dropout rate\n",
    "dropout = 0.1"
   ]
  },
  {
   "cell_type": "markdown",
   "metadata": {},
   "source": [
    "## DAN model"
   ]
  },
  {
   "cell_type": "code",
   "execution_count": 17,
   "metadata": {},
   "outputs": [
    {
     "name": "stdout",
     "output_type": "stream",
     "text": [
      "_________________________________________________________________\n",
      "Layer (type)                 Output Shape              Param #   \n",
      "=================================================================\n",
      "order_input (InputLayer)     (None, 145)               0         \n",
      "_________________________________________________________________\n",
      "product_embedding (Embedding (None, 145, 50)           2484450   \n",
      "_________________________________________________________________\n",
      "mean (Lambda)                (None, 50)                0         \n",
      "_________________________________________________________________\n",
      "order_hidden_1 (Dense)       (None, 50)                2550      \n",
      "_________________________________________________________________\n",
      "order_hidden_2 (Dense)       (None, 50)                2550      \n",
      "_________________________________________________________________\n",
      "output (Dense)               (None, 1)                 51        \n",
      "=================================================================\n",
      "Total params: 2,489,601\n",
      "Trainable params: 2,489,601\n",
      "Non-trainable params: 0\n",
      "_________________________________________________________________\n"
     ]
    }
   ],
   "source": [
    "# Inputs\n",
    "\n",
    "#user_input = k.layers.Input(shape=(1,), name='user_input')\n",
    "\n",
    "dan_order_input = k.layers.Input(shape=(biggest_order_size,), name='order_input')\n",
    "\n",
    "#order_size_input = k.layers.Input(shape=(1,), name='order_size_input')\n",
    "\n",
    "# Embeddings\n",
    "\n",
    "dan_product_embedding = k.layers.Embedding(\n",
    "  input_dim=max_product_id + 1,\n",
    "  output_dim=product_embedding_size,\n",
    "  mask_zero=True,\n",
    "  name='product_embedding')\n",
    "\n",
    "#user_embedding = k.layers.Embedding(\n",
    "#  input_dim=max_user_id + 1, output_dim=user_embedding_size, name='user_embedding')\n",
    "\n",
    "dan_order_embeddings = dan_product_embedding(dan_order_input)\n",
    "\n",
    "# The DAN itself\n",
    "\n",
    "dan_order_vector = k.layers.Lambda(\n",
    "  mask_aware_mean, mask_aware_mean_output_shape, name='mean')(dan_order_embeddings)\n",
    "\n",
    "dan_order_hidden_1 = k.layers.Dense(\n",
    "  product_embedding_size, activation='relu', name='order_hidden_1')(dan_order_vector)\n",
    "\n",
    "dan_order_hidden_2 = k.layers.Dense(\n",
    "  product_embedding_size, activation='relu', name='order_hidden_2')(dan_order_hidden_1)\n",
    "\n",
    "# Output -- no activation\n",
    "\n",
    "dan_output = k.layers.Dense(1, name='output')(dan_order_hidden_2)\n",
    "\n",
    "# Compile the model\n",
    "\n",
    "dan_model = k.models.Model(\n",
    "  inputs=[dan_order_input],\n",
    "  outputs=dan_output)\n",
    "\n",
    "dan_model.compile(optimizer='adam', loss='mse')\n",
    "\n",
    "dan_model.summary()"
   ]
  },
  {
   "cell_type": "code",
   "execution_count": 20,
   "metadata": {},
   "outputs": [
    {
     "name": "stdout",
     "output_type": "stream",
     "text": [
      "Train on 3182725 samples, validate on 32149 samples\n",
      "Epoch 1/1\n",
      "3182725/3182725 [==============================] - 277s - loss: 0.0639 - val_loss: 0.0641\n",
      "Finished training in 277 secs\n"
     ]
    }
   ],
   "source": [
    "start = time.time()\n",
    "\n",
    "dan_model.fit(order_matrix, labels,\n",
    "              batch_size=batch_size,\n",
    "              validation_split=0.01)\n",
    "\n",
    "duration = time.time() - start\n",
    "print('Finished training in %d secs' % duration)"
   ]
  },
  {
   "cell_type": "markdown",
   "metadata": {},
   "source": [
    "## GRU model"
   ]
  },
  {
   "cell_type": "code",
   "execution_count": 21,
   "metadata": {},
   "outputs": [
    {
     "name": "stdout",
     "output_type": "stream",
     "text": [
      "_________________________________________________________________\n",
      "Layer (type)                 Output Shape              Param #   \n",
      "=================================================================\n",
      "order_input (InputLayer)     (None, 145)               0         \n",
      "_________________________________________________________________\n",
      "product_embedding (Embedding (None, 145, 50)           2484450   \n",
      "_________________________________________________________________\n",
      "order_gru (GRU)              (None, 50)                15150     \n",
      "_________________________________________________________________\n",
      "output (Dense)               (None, 1)                 51        \n",
      "=================================================================\n",
      "Total params: 2,499,651\n",
      "Trainable params: 2,499,651\n",
      "Non-trainable params: 0\n",
      "_________________________________________________________________\n"
     ]
    }
   ],
   "source": [
    "# Inputs\n",
    "\n",
    "gru_order_input = k.layers.Input(shape=(biggest_order_size,), name='order_input')\n",
    "\n",
    "# Embeddings\n",
    "\n",
    "gru_product_embedding = k.layers.Embedding(\n",
    "  input_dim=max_product_id + 1,\n",
    "  output_dim=product_embedding_size,\n",
    "  mask_zero=True,\n",
    "  name='product_embedding')\n",
    "\n",
    "gru_order_embeddings = gru_product_embedding(gru_order_input)\n",
    "\n",
    "# The GRU itself\n",
    "\n",
    "order_gru = k.layers.GRU(\n",
    "  product_embedding_size, name='order_gru')(gru_order_embeddings)\n",
    "\n",
    "# Output -- no activation\n",
    "\n",
    "gru_output = k.layers.Dense(1, name='output')(order_gru)\n",
    "\n",
    "# Compile the model\n",
    "\n",
    "gru_model = k.models.Model(\n",
    "  inputs=[gru_order_input],\n",
    "  outputs=gru_output)\n",
    "\n",
    "gru_model.compile(optimizer='adam', loss='mse')\n",
    "\n",
    "gru_model.summary()"
   ]
  },
  {
   "cell_type": "code",
   "execution_count": 22,
   "metadata": {},
   "outputs": [
    {
     "name": "stdout",
     "output_type": "stream",
     "text": [
      "Train on 3182725 samples, validate on 32149 samples\n",
      "Epoch 1/1\n",
      "3182725/3182725 [==============================] - 19375s - loss: 0.0625 - val_loss: 0.0638\n",
      "Finished training in 19375 secs\n"
     ]
    }
   ],
   "source": [
    "start = time.time()\n",
    "\n",
    "gru_model.fit(order_matrix, labels,\n",
    "              batch_size=batch_size,\n",
    "              validation_split=0.01)\n",
    "\n",
    "duration = time.time() - start\n",
    "print('Finished training in %d secs' % duration)"
   ]
  },
  {
   "cell_type": "markdown",
   "metadata": {},
   "source": [
    "## Junk"
   ]
  },
  {
   "cell_type": "code",
   "execution_count": null,
   "metadata": {
    "collapsed": true
   },
   "outputs": [],
   "source": [
    "def shuffle(orders_in, sizes_in, users_in, labels_in):\n",
    "  n = len(orders_in)\n",
    "  assert len(sizes_in) == n\n",
    "  assert len(users_in) == n\n",
    "  assert len(labels_in) == n\n",
    "  p = np.random.permutation(n)\n",
    "  return orders_in[p], sizes_in[p], users_in[p], labels_in[p]"
   ]
  },
  {
   "cell_type": "code",
   "execution_count": null,
   "metadata": {
    "collapsed": true
   },
   "outputs": [],
   "source": [
    "batch_size = 100\n",
    "num_valid = 5000\n",
    "\n",
    "index = np.arange(num_rows, dtype=np.uint32)\n",
    "np.random.shuffle(index)\n",
    "index_valid = index[:num_valid]\n",
    "index_train = index[num_valid:]\n",
    "\n",
    "order_matrix_valid = order_matrix[index_valid, :]\n",
    "order_sizes_valid = order_sizes[index_valid]\n",
    "user_ids_valid = user_ids[index_valid]\n",
    "labels_valid = labels[index_valid]"
   ]
  }
 ],
 "metadata": {
  "kernelspec": {
   "display_name": "Python 2",
   "language": "python",
   "name": "python2"
  },
  "language_info": {
   "codemirror_mode": {
    "name": "ipython",
    "version": 2
   },
   "file_extension": ".py",
   "mimetype": "text/x-python",
   "name": "python",
   "nbconvert_exporter": "python",
   "pygments_lexer": "ipython2",
   "version": "2.7.13"
  }
 },
 "nbformat": 4,
 "nbformat_minor": 2
}
